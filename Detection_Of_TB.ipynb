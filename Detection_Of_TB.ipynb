{
  "cells": [
    {
      "cell_type": "code",
      "execution_count": 1,
      "metadata": {
        "id": "ELqVtZ9JSbSS"
      },
      "outputs": [],
      "source": [
        "import numpy as np # linear algebra\n",
        "import pandas as pd # data processing, CSV file I/O (e.g. pd.read_csv)\n",
        "import os\n",
        "import cv2\n",
        "from pathlib import Path\n",
        "import seaborn as sns\n",
        "import matplotlib.pyplot as plt\n",
        "from skimage.io import imread"
      ]
    },
    {
      "cell_type": "code",
      "execution_count": null,
      "metadata": {
        "id": "Mcy50F5AVqnN"
      },
      "outputs": [],
      "source": [
        "from google.colab import drive\n",
        "drive.mount('/content/drive')"
      ]
    },
    {
      "cell_type": "code",
      "execution_count": null,
      "metadata": {
        "id": "W8KHLDtPVy59"
      },
      "outputs": [],
      "source": [
        "# Define path to the data directory\n",
        "data_dir = Path('C/content/drive/MyDrive/deeplearning/TB_Chest_Radiography_Database')\n",
        "\n",
        "data_dir"
      ]
    },
    {
      "cell_type": "code",
      "execution_count": null,
      "metadata": {
        "id": "y1ql27qWS_FG"
      },
      "outputs": [],
      "source": [
        "# Get the path to the normal and pneumonia sub-directories\n",
        "normal_cases_dir = Path('/content/drive/MyDrive/deeplearning/TB_Chest_Radiography_Database/Normal')\n",
        "Tuberculosis_cases_dir = Path('/content/drive/MyDrive/deeplearning/TB_Chest_Radiography_Database/Tuberculosis')\n",
        "\n",
        "# Get the list of all the images\n",
        "normal_cases = normal_cases_dir.glob('*.png')\n",
        "Tuberculosis_cases = Tuberculosis_cases_dir.glob('*.png')\n",
        "\n",
        "# An empty list. We will insert the data into this list in (img_path, label) format\n",
        "train_data = []\n",
        "\n",
        "# Go through all the normal cases. The label for these cases will be 0\n",
        "for img in normal_cases:\n",
        "    train_data.append((img,0))\n",
        "\n",
        "# Go through all the pneumonia cases. The label for these cases will be 1\n",
        "for img in Tuberculosis_cases:\n",
        "    train_data.append((img, 1))\n",
        "# Get a pandas dataframe from the data we have in our list \n",
        "train_data = pd.DataFrame(train_data, columns=['image', 'label'],index=None)\n",
        "\n",
        "# Shuffle the data \n",
        "train_data = train_data.sample(frac=1.).reset_index(drop=True)\n",
        "\n",
        "# How the dataframe looks like?\n",
        "train_data.head()"
      ]
    },
    {
      "cell_type": "code",
      "execution_count": null,
      "metadata": {
        "id": "0rF6pFuNUxLf"
      },
      "outputs": [],
      "source": [
        "train_data.shape"
      ]
    },
    {
      "cell_type": "code",
      "execution_count": null,
      "metadata": {
        "id": "LoRjoTxxb48-"
      },
      "outputs": [],
      "source": [
        "# Get few samples for both the classes\n",
        "Tuberculosis_samples = (train_data[train_data['label']==1]['image'].iloc[:5]).tolist()\n",
        "normal_samples = (train_data[train_data['label']==0]['image'].iloc[:5]).tolist()\n",
        "\n",
        "# Concat the data in a single list and del the above two list\n",
        "samples = Tuberculosis_samples + normal_samples\n",
        "del Tuberculosis_samples, normal_samples\n",
        "\n",
        "# Plot the data \n",
        "f, ax = plt.subplots(2,5, figsize=(30,10))\n",
        "for i in range(10):\n",
        "    img = imread(samples[i])\n",
        "    ax[i//5, i%5].imshow(img, cmap='gray')\n",
        "    if i<5:\n",
        "        ax[i//5, i%5].set_title(\"Tuberculosis\")\n",
        "    else:\n",
        "        ax[i//5, i%5].set_title(\"Normal\")\n",
        "    ax[i//5, i%5].axis('off')\n",
        "    ax[i//5, i%5].set_aspect('auto')\n",
        "plt.show()"
      ]
    },
    {
      "cell_type": "code",
      "execution_count": null,
      "metadata": {
        "id": "GdVlCDkRYi6O"
      },
      "outputs": [],
      "source": [
        "from tqdm import tqdm\n",
        "train_normal = data_dir / 'Normal'\n",
        "train_Tuberculosis = data_dir / 'Tuberculosis'\n",
        "\n",
        "# Get the list of all the images\n",
        "normal_cases = normal_cases_dir.glob('*.png')\n",
        "Tuberculosis_cases =Tuberculosis_cases_dir.glob('*.png')\n",
        "train_data = []\n",
        "train_labels = []\n",
        "from keras.utils.np_utils import to_categorical\n",
        "\n",
        "for img in tqdm(normal_cases):\n",
        "    img = cv2.imread(str(img))\n",
        "    img = cv2.resize(img, (28,28))\n",
        "    if img.shape[2] ==1:\n",
        "        img = np.dstack([img, img, img])\n",
        "    img = cv2.cvtColor(img, cv2.COLOR_BGR2RGB)\n",
        "    img=np.array(img)\n",
        "    img = img/255\n",
        "    label = 'normal'\n",
        "    train_data.append(img)\n",
        "    train_labels.append(label)\n",
        "\n",
        "    # Tuberculosis cases        \n",
        "for img in tqdm(Tuberculosis_cases):\n",
        "    img = cv2.imread(str(img))\n",
        "    img = cv2.resize(img, (28,28))\n",
        "    if img.shape[2] ==1:\n",
        "        img = np.dstack([img, img, img])\n",
        "    img = cv2.cvtColor(img, cv2.COLOR_BGR2RGB)\n",
        "    img=np.array(img)\n",
        "    img = img/255\n",
        "    label = 'Tuberculosis'\n",
        "    train_data.append(img)\n",
        "    train_labels.append(label)\n",
        "\n",
        "    # Convert the list into numpy arrays\n",
        "\n",
        "train_data1 = np.array(train_data)\n",
        "train_labels1 = np.array(train_labels)\n",
        "\n",
        "print(\"Total number of validation examples: \", train_data1.shape)\n",
        "print(\"Total number of labels:\", train_labels1.shape)"
      ]
    },
    {
      "cell_type": "code",
      "execution_count": null,
      "metadata": {
        "id": "wRR5nKclY-i9"
      },
      "outputs": [],
      "source": [
        "train_data1[1]"
      ]
    },
    {
      "cell_type": "code",
      "execution_count": null,
      "metadata": {
        "id": "6b5w4f_pY_VS"
      },
      "outputs": [],
      "source": [
        "train_labels1.shape"
      ]
    },
    {
      "cell_type": "code",
      "execution_count": null,
      "metadata": {
        "id": "xcvkgQkhZEip"
      },
      "outputs": [],
      "source": [
        "train_data1.shape"
      ]
    },
    {
      "cell_type": "code",
      "execution_count": null,
      "metadata": {
        "id": "HAMLghsxZIO8"
      },
      "outputs": [],
      "source": [
        "train_labels1 = pd.DataFrame(train_labels1, columns=[ 'label'],index=None)\n",
        "train_labels1.head()"
      ]
    },
    {
      "cell_type": "code",
      "execution_count": null,
      "metadata": {
        "id": "MaT54kW3ZL2u"
      },
      "outputs": [],
      "source": [
        "train_labels1['label']=train_labels1['label'].map({'normal':0,'Tuberculosis':1})\n",
        "train_labels1['label'].unique()"
      ]
    },
    {
      "cell_type": "code",
      "execution_count": null,
      "metadata": {
        "id": "IkD6uDWjZSsO"
      },
      "outputs": [],
      "source": [
        "from imblearn.over_sampling import SMOTE\n",
        "smt = SMOTE()\n",
        "train_rows=len(train_data1)\n",
        "train_data1 = train_data1.reshape(train_rows,-1)\n",
        "train_data2, train_labels2 = smt.fit_resample(train_data1, train_labels1)"
      ]
    },
    {
      "cell_type": "code",
      "execution_count": null,
      "metadata": {
        "id": "Cjea9e1OZVpR"
      },
      "outputs": [],
      "source": [
        "cases_count1 = train_labels2['label'].value_counts()\n",
        "print(cases_count1)\n",
        "\n",
        "# Plot the results \n",
        "plt.figure(figsize=(10,8))\n",
        "sns.barplot(x=cases_count1.index, y= cases_count1.values)\n",
        "plt.title('Number of cases', fontsize=14)\n",
        "plt.xlabel('Case type', fontsize=12)\n",
        "plt.ylabel('Count', fontsize=12)\n",
        "plt.xticks(range(len(cases_count.index)), ['Normal(0)', 'Tuberculosis(1)'])\n",
        "plt.show()"
      ]
    },
    {
      "cell_type": "code",
      "execution_count": null,
      "metadata": {
        "id": "z0WY8udrZbEP"
      },
      "outputs": [],
      "source": [
        "train_data2.shape"
      ]
    },
    {
      "cell_type": "code",
      "execution_count": null,
      "metadata": {
        "id": "uTinu1omZm9O"
      },
      "outputs": [],
      "source": [
        "train_labels2.shape"
      ]
    },
    {
      "cell_type": "code",
      "execution_count": null,
      "metadata": {
        "id": "tRXkwaP5Zpwn"
      },
      "outputs": [],
      "source": [
        "train_labels2"
      ]
    },
    {
      "cell_type": "code",
      "execution_count": null,
      "metadata": {
        "id": "rMZo9AocZtwP"
      },
      "outputs": [],
      "source": [
        "train_data2 =train_data2.reshape(-1,28,28,3)"
      ]
    },
    {
      "cell_type": "code",
      "execution_count": null,
      "metadata": {
        "id": "twdvP8IUZxOa"
      },
      "outputs": [],
      "source": [
        "from sklearn.model_selection import train_test_split\n",
        "\n",
        "X_train, X_test, y_train, y_test = train_test_split(train_data2, train_labels2, test_size=0.13, random_state=42)"
      ]
    },
    {
      "cell_type": "code",
      "execution_count": null,
      "metadata": {
        "id": "qegN-aN7gL4J"
      },
      "outputs": [],
      "source": [
        "X_train.shape"
      ]
    },
    {
      "cell_type": "code",
      "execution_count": null,
      "metadata": {
        "id": "R-TGR7sZgTHm"
      },
      "outputs": [],
      "source": [
        "y_test.shape"
      ]
    },
    {
      "cell_type": "code",
      "execution_count": null,
      "metadata": {
        "id": "QWkMwyssZ1PC"
      },
      "outputs": [],
      "source": [
        "from tensorflow import keras\n",
        "from tensorflow.keras import layers\n",
        "data_augmentation = keras.Sequential(\n",
        "  [\n",
        "    layers.RandomFlip(\"horizontal\",\n",
        "                      input_shape=(28,\n",
        "                                  28,\n",
        "                                  3)),\n",
        "    layers.RandomRotation(0.1),\n",
        "    layers.RandomZoom(0.1),\n",
        "      \n",
        "  ]\n",
        ")"
      ]
    },
    {
      "cell_type": "code",
      "execution_count": null,
      "metadata": {
        "id": "GLx08ZiEZ5XW"
      },
      "outputs": [],
      "source": [
        "import tensorflow as tf\n",
        "from tensorflow.keras import  layers, models\n",
        "\n",
        "model = models.Sequential([\n",
        "    data_augmentation,\n",
        "    layers.Conv2D(28, (3, 3), activation='relu', input_shape=(28, 28, 3)) ,\n",
        "    layers.MaxPooling2D((2, 2)),\n",
        "    layers.Conv2D(64, (3, 3), activation='relu'),\n",
        "    layers.MaxPooling2D((2, 2)),\n",
        "    layers.Conv2D(64, (3, 3), activation='relu')\n",
        "    \n",
        "])\n",
        "\n",
        "model.summary()"
      ]
    },
    {
      "cell_type": "code",
      "execution_count": null,
      "metadata": {
        "id": "XM28NAukaXkH"
      },
      "outputs": [],
      "source": [
        "model.add(layers.Flatten())\n",
        "model.add(layers.Dense(640, activation='tanh'))\n",
        "model.add(layers.Dropout(0.5))\n",
        "model.add(layers.Dense(564, activation='tanh'))\n",
        "model.add(layers.Dropout(0.5))\n",
        "model.add(layers.Dense(64, activation='tanh'))\n",
        "model.add(layers.Dense(64, activation='sigmoid'))\n",
        "model.add(layers.Dense(2))\n",
        "model.summary()"
      ]
    },
    {
      "cell_type": "code",
      "execution_count": null,
      "metadata": {
        "id": "Bd85e2knadbL"
      },
      "outputs": [],
      "source": [
        "model.compile(optimizer='adam',\n",
        "              loss=tf.keras.losses.SparseCategoricalCrossentropy(from_logits=True),\n",
        "              metrics=['accuracy'])\n",
        "\n",
        "history=model.fit(np.array(X_train), np.array(y_train), epochs=200, validation_data=(np.array(X_test), np.array(y_test)))\n",
        "#model.fit(np.array(train_data1), np.array(train_labels1), epochs=10)"
      ]
    },
    {
      "cell_type": "code",
      "execution_count": null,
      "metadata": {
        "id": "_IW_YhXTkIeo"
      },
      "outputs": [],
      "source": [
        "print(np.average(history.history['accuracy']))"
      ]
    },
    {
      "cell_type": "code",
      "execution_count": null,
      "metadata": {
        "id": "mYBcWi70mEbr"
      },
      "outputs": [],
      "source": [
        "print(np.average(history.history['loss']))"
      ]
    },
    {
      "cell_type": "code",
      "execution_count": null,
      "metadata": {
        "id": "49pJfhQ9CCU-"
      },
      "outputs": [],
      "source": [
        "test_data = []\n",
        "image='../input/tuberculosis-tb-chest-xray-dataset/TB_Chest_Radiography_Database/Tuberculosis/Tuberculosis-101.png'\n",
        "img = cv2.imread(str(image))  \n",
        "\n",
        "\n",
        "img=np.array(img)\n",
        "\n",
        "test_data.append(img)\n",
        "    \n",
        "# Convert the list into numpy arrays\n",
        "\n",
        "test_data1 = np.array(test_data)"
      ]
    },
    {
      "cell_type": "code",
      "execution_count": null,
      "metadata": {
        "id": "Zk0bOXWGa5vO"
      },
      "outputs": [],
      "source": [
        "model.save('my_model1')"
      ]
    },
    {
      "cell_type": "code",
      "execution_count": null,
      "metadata": {
        "id": "9QZUAOvQa6-p"
      },
      "outputs": [],
      "source": [
        "new_model = tf.keras.models.load_model('./my_model1')\n",
        "\n",
        "# Check its architecture\n",
        "new_model.summary()"
      ]
    },
    {
      "cell_type": "code",
      "execution_count": null,
      "metadata": {
        "id": "Pm_JFCfoIDp-"
      },
      "outputs": [],
      "source": [
        "test_data = []\n",
        "image='/content/drive/MyDrive/deeplearning/TB_Chest_Radiography_Database/Normal/Normal-1004.png'\n",
        "img = cv2.imread(str(image))\n",
        "img = cv2.resize(img, (28,28))\n",
        "if img.shape[2] ==1:\n",
        "    img = np.dstack([img, img, img])\n",
        "img = cv2.cvtColor(img, cv2.COLOR_BGR2RGB)\n",
        "img=np.array(img)\n",
        "img = img/255\n",
        "test_data.append(img)\n",
        "    \n",
        "# Convert the list into numpy arrays\n",
        "\n",
        "test_data1 = np.array(test_data)"
      ]
    },
    {
      "cell_type": "code",
      "execution_count": null,
      "metadata": {
        "id": "N2iFyiWOISzY"
      },
      "outputs": [],
      "source": [
        "a=model.predict(np.array(test_data1))\n"
      ]
    },
    {
      "cell_type": "code",
      "execution_count": null,
      "metadata": {
        "id": "5WrR35-JIZdA"
      },
      "outputs": [],
      "source": [
        "np.argmax(a)"
      ]
    },
    {
      "cell_type": "code",
      "execution_count": null,
      "metadata": {
        "id": "t7i2rpCshFQs"
      },
      "outputs": [],
      "source": [
        "test_data = []\n",
        "image='/content/drive/MyDrive/deeplearning/TB_Chest_Radiography_Database/Normal/Normal-1004.png'\n",
        "img = cv2.imread(str(image))\n",
        "img = cv2.resize(img, (28,28))\n",
        "if img.shape[2] ==1:\n",
        "    img = np.dstack([img, img, img])\n",
        "img = cv2.cvtColor(img, cv2.COLOR_BGR2RGB)\n",
        "img=np.array(img)\n",
        "img = img/255\n",
        "test_data.append(img)\n",
        "    \n",
        "# Convert the list into numpy arrays\n",
        "\n",
        "test_data1 = np.array(test_data)\n",
        "\n",
        "a=model.predict(np.array(test_data1))\n",
        "\n",
        "np.argmax(a)\n",
        "\n",
        "if (np.argmax(a) == 0):\n",
        "  print('The person is normal')\n",
        "else:\n",
        "  print('The person has Tuberculosis')"
      ]
    },
    {
      "cell_type": "code",
      "execution_count": null,
      "metadata": {
        "id": "hkb9wyceGkML"
      },
      "outputs": [],
      "source": [
        "fig, ax = plt.subplots(figsize=(20,8))\n",
        "sns.lineplot(x = history.epoch, y = history.history['loss'])\n",
        "sns.lineplot(x = history.epoch, y = history.history['val_loss'])\n",
        "ax.set_title('Learning Curve (Loss)')\n",
        "ax.set_ylabel('Loss')\n",
        "ax.set_xlabel('Epoch')\n",
        "ax.set_ylim(0, 0.5)\n",
        "ax.legend(['train', 'val'], loc='best')\n",
        "plt.show()"
      ]
    },
    {
      "cell_type": "code",
      "execution_count": null,
      "metadata": {
        "id": "G_YxW1UsJCcj"
      },
      "outputs": [],
      "source": [
        "fig, ax = plt.subplots(figsize=(20,8))\n",
        "sns.lineplot(x = history.epoch, y = history.history['accuracy'])\n",
        "sns.lineplot(x = history.epoch, y = history.history['val_accuracy'])\n",
        "ax.set_title('Learning Curve (Accuracy)')\n",
        "ax.set_ylabel('Accuracy')\n",
        "ax.set_xlabel('Epoch')\n",
        "ax.set_ylim(0.80, 1.0)\n",
        "ax.legend(['train', 'val'], loc='best')\n",
        "plt.show()"
      ]
    },
    {
      "cell_type": "code",
      "execution_count": null,
      "metadata": {
        "id": "BXj-zlu9pkmY"
      },
      "outputs": [],
      "source": [
        "tf.keras.models.save_model(model,'my_model.hdf5')"
      ]
    },
    {
      "cell_type": "code",
      "execution_count": null,
      "metadata": {
        "id": "5fh6MQ9jxtTK"
      },
      "outputs": [],
      "source": [
        "model = tf.keras.models.load_model('/content/my_model.hdf5')"
      ]
    },
    {
      "cell_type": "code",
      "execution_count": null,
      "metadata": {
        "id": "q_7EUTM-bGX0"
      },
      "outputs": [],
      "source": [
        "!pip install path.py"
      ]
    },
    {
      "cell_type": "code",
      "execution_count": null,
      "metadata": {
        "id": "KjZTKF1yl5XE"
      },
      "outputs": [],
      "source": [
        "import os\n",
        "import PIL"
      ]
    },
    {
      "cell_type": "code",
      "execution_count": null,
      "metadata": {
        "id": "hGbnfUXxDm2f"
      },
      "outputs": [],
      "source": [
        "!pip install streamlit"
      ]
    },
    {
      "cell_type": "code",
      "execution_count": null,
      "metadata": {
        "id": "45u14chvkKXO"
      },
      "outputs": [],
      "source": [
        "import sys"
      ]
    },
    {
      "cell_type": "code",
      "execution_count": null,
      "metadata": {
        "id": "kW32zstboHlc"
      },
      "outputs": [],
      "source": [
        "%%writefile app.py\n",
        "import streamlit as st\n",
        "import tensorflow as tf\n",
        "import streamlit as st\n",
        "\n",
        "\n",
        "@st.cache(allow_output_mutation=True)\n",
        "def load_model():\n",
        "  model=tf.keras.models.load_model('/content/my_model.hdf5')\n",
        "  return model\n",
        "with st.spinner('Model is being loaded..'):\n",
        "  model=load_model()\n",
        "\n",
        "st.write(\"\"\"\n",
        "         # Detection of TB\n",
        "         \"\"\"\n",
        "         )\n",
        "\n",
        "def load_image(file):\n",
        "  temp=Image.open(file)\n",
        "  return temp\n",
        "file = st.file_uploader(\"Please upload an chest X-ray file\", type=[\"jpg\", \"png\"])\n",
        "import cv2\n",
        "from PIL import Image, ImageOps\n",
        "import numpy as np\n",
        "st.set_option('deprecation.showfileUploaderEncoding', False)\n",
        "def import_and_predict(image, model):\n",
        "    test_data = []\n",
        "    image='/content/drive/MyDrive/deeplearning/TB_Chest_Radiography_Database/Normal/'+file.name\n",
        "    img = cv2.imread(str(image))\n",
        "    if img is None:\n",
        "        image='/content/drive/MyDrive/deeplearning/TB_Chest_Radiography_Database/Tuberculosis/'+file.name\n",
        "        img = cv2.imread(str(image))\n",
        "    img = cv2.resize(img, (28,28))\n",
        "    if img.shape[2] ==1:\n",
        "      img = np.dstack([img, img, img])\n",
        "    img = cv2.cvtColor(img, cv2.COLOR_BGR2RGB)\n",
        "    img=np.array(img)\n",
        "    img = img/255\n",
        "    test_data.append(img)\n",
        "\n",
        "    test_data1 = np.array(test_data)\n",
        "\n",
        "    a=model.predict(np.array(test_data1))\n",
        "\n",
        "    value=np.argmax(a)\n",
        "    if (np.argmax(a) == 0):\n",
        "        st.text('The person does not have Tuberculosis')\n",
        "    else:\n",
        "        st.text('The person has Tuberculosis')\n",
        "    return value \n",
        "\n",
        "if file is None:\n",
        "    st.text(\"Please upload an image file\")\n",
        "else:\n",
        "    image = Image.open(file)\n",
        "    st.image(image, width=240)\n",
        "    predictions = import_and_predict(image, model) \n",
        "\n",
        "     "
      ]
    },
    {
      "cell_type": "code",
      "execution_count": null,
      "metadata": {
        "id": "4fsK_VRaohB1"
      },
      "outputs": [],
      "source": [
        "!streamlit run app.py & npx localtunnel --port 8501 "
      ]
    }
  ],
  "metadata": {
    "colab": {
      "provenance": []
    },
    "kernelspec": {
      "display_name": "Python 3",
      "name": "python3"
    },
    "language_info": {
      "name": "python"
    }
  },
  "nbformat": 4,
  "nbformat_minor": 0
}